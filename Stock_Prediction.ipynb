{
  "nbformat": 4,
  "nbformat_minor": 0,
  "metadata": {
    "colab": {
      "provenance": [],
      "authorship_tag": "ABX9TyPUzSXNJlUjH4DYim8CQJYK",
      "include_colab_link": true
    },
    "kernelspec": {
      "name": "python3",
      "display_name": "Python 3"
    },
    "language_info": {
      "name": "python"
    }
  },
  "cells": [
    {
      "cell_type": "markdown",
      "metadata": {
        "id": "view-in-github",
        "colab_type": "text"
      },
      "source": [
        "<a href=\"https://colab.research.google.com/github/RajeswariPakki/Stock_Movement_Prediction/blob/main/Stock_Prediction.ipynb\" target=\"_parent\"><img src=\"https://colab.research.google.com/assets/colab-badge.svg\" alt=\"Open In Colab\"/></a>"
      ]
    },
    {
      "cell_type": "code",
      "source": [
        "#Installing kaggle library\n",
        "! pip install kaggle"
      ],
      "metadata": {
        "colab": {
          "base_uri": "https://localhost:8080/"
        },
        "id": "sLNbQ5vDsW1s",
        "outputId": "5c21c456-6520-42e5-d17a-03beecf23a7b"
      },
      "execution_count": 2,
      "outputs": [
        {
          "output_type": "stream",
          "name": "stdout",
          "text": [
            "Requirement already satisfied: kaggle in /usr/local/lib/python3.10/dist-packages (1.6.17)\n",
            "Requirement already satisfied: six>=1.10 in /usr/local/lib/python3.10/dist-packages (from kaggle) (1.16.0)\n",
            "Requirement already satisfied: certifi>=2023.7.22 in /usr/local/lib/python3.10/dist-packages (from kaggle) (2024.8.30)\n",
            "Requirement already satisfied: python-dateutil in /usr/local/lib/python3.10/dist-packages (from kaggle) (2.8.2)\n",
            "Requirement already satisfied: requests in /usr/local/lib/python3.10/dist-packages (from kaggle) (2.32.3)\n",
            "Requirement already satisfied: tqdm in /usr/local/lib/python3.10/dist-packages (from kaggle) (4.66.6)\n",
            "Requirement already satisfied: python-slugify in /usr/local/lib/python3.10/dist-packages (from kaggle) (8.0.4)\n",
            "Requirement already satisfied: urllib3 in /usr/local/lib/python3.10/dist-packages (from kaggle) (2.2.3)\n",
            "Requirement already satisfied: bleach in /usr/local/lib/python3.10/dist-packages (from kaggle) (6.2.0)\n",
            "Requirement already satisfied: webencodings in /usr/local/lib/python3.10/dist-packages (from bleach->kaggle) (0.5.1)\n",
            "Requirement already satisfied: text-unidecode>=1.3 in /usr/local/lib/python3.10/dist-packages (from python-slugify->kaggle) (1.3)\n",
            "Requirement already satisfied: charset-normalizer<4,>=2 in /usr/local/lib/python3.10/dist-packages (from requests->kaggle) (3.4.0)\n",
            "Requirement already satisfied: idna<4,>=2.5 in /usr/local/lib/python3.10/dist-packages (from requests->kaggle) (3.10)\n"
          ]
        }
      ]
    },
    {
      "cell_type": "code",
      "source": [
        "#configuring the path of kaggle.json file\n",
        "!mkdir -p ~/.kaggle\n",
        "!cp kaggle.json ~/.kaggle/\n",
        "!chmod 600 ~/.kaggle/kaggle.json"
      ],
      "metadata": {
        "id": "Auxzj8gAsg4c"
      },
      "execution_count": 4,
      "outputs": []
    },
    {
      "cell_type": "code",
      "source": [
        "#API to fetch the dataset from kaggle.\n",
        "!kaggle datasets download -d equinxx/stock-tweets-for-sentiment-analysis-and-prediction"
      ],
      "metadata": {
        "colab": {
          "base_uri": "https://localhost:8080/"
        },
        "id": "frFE1TOgtV0N",
        "outputId": "96262d02-d582-4e70-a4b4-365d9997e1df"
      },
      "execution_count": 5,
      "outputs": [
        {
          "output_type": "stream",
          "name": "stdout",
          "text": [
            "Dataset URL: https://www.kaggle.com/datasets/equinxx/stock-tweets-for-sentiment-analysis-and-prediction\n",
            "License(s): CC0-1.0\n",
            "Downloading stock-tweets-for-sentiment-analysis-and-prediction.zip to /content\n",
            " 45% 3.00M/6.59M [00:00<00:00, 5.50MB/s]\n",
            "100% 6.59M/6.59M [00:00<00:00, 8.96MB/s]\n"
          ]
        }
      ]
    },
    {
      "cell_type": "code",
      "source": [
        "#extracting the compressed file\n",
        "from zipfile import ZipFile\n",
        "dataset = '/content/stock-tweets-for-sentiment-analysis-and-prediction.zip'\n",
        "with ZipFile(dataset,'r') as zip:\n",
        "  zip.extractall()\n",
        "  print('The dataset is extracted')"
      ],
      "metadata": {
        "colab": {
          "base_uri": "https://localhost:8080/"
        },
        "id": "0Pm-tnZFup4Y",
        "outputId": "8104a456-0258-400c-fe70-19e5fe495ba4"
      },
      "execution_count": 6,
      "outputs": [
        {
          "output_type": "stream",
          "name": "stdout",
          "text": [
            "The dataset is extracted\n"
          ]
        }
      ]
    },
    {
      "cell_type": "markdown",
      "source": [
        "Loading the two files from the dataset."
      ],
      "metadata": {
        "id": "VIwnBSTvqMgb"
      }
    },
    {
      "cell_type": "code",
      "source": [
        "import pandas as pd\n",
        "\n",
        "# Load datasets\n",
        "tweets = pd.read_csv(\"stock_tweets.csv\")\n",
        "stock_data = pd.read_csv(\"stock_yfinance_data.csv\")\n",
        "\n",
        "# Preview the datasets\n",
        "print(\"Tweets Dataset:\\n\", tweets.head())\n",
        "print(\"\\nStock Data:\\n\", stock_data.head())"
      ],
      "metadata": {
        "colab": {
          "base_uri": "https://localhost:8080/"
        },
        "id": "AJLOoITdyl0n",
        "outputId": "13e494bd-fc3f-4984-bd72-4742df4cd7eb"
      },
      "execution_count": 10,
      "outputs": [
        {
          "output_type": "stream",
          "name": "stdout",
          "text": [
            "Tweets Dataset:\n",
            "                         Date  \\\n",
            "0  2022-09-29 23:41:16+00:00   \n",
            "1  2022-09-29 23:24:43+00:00   \n",
            "2  2022-09-29 23:18:08+00:00   \n",
            "3  2022-09-29 22:40:07+00:00   \n",
            "4  2022-09-29 22:27:05+00:00   \n",
            "\n",
            "                                               Tweet Stock Name Company Name  \n",
            "0  Mainstream media has done an amazing job at br...       TSLA  Tesla, Inc.  \n",
            "1  Tesla delivery estimates are at around 364k fr...       TSLA  Tesla, Inc.  \n",
            "2  3/ Even if I include 63.0M unvested RSUs as of...       TSLA  Tesla, Inc.  \n",
            "3  @RealDanODowd @WholeMarsBlog @Tesla Hahaha why...       TSLA  Tesla, Inc.  \n",
            "4  @RealDanODowd @Tesla Stop trying to kill kids,...       TSLA  Tesla, Inc.  \n",
            "\n",
            "Stock Data:\n",
            "          Date        Open        High         Low       Close   Adj Close  \\\n",
            "0  2021-09-30  260.333344  263.043335  258.333344  258.493347  258.493347   \n",
            "1  2021-10-01  259.466675  260.260010  254.529999  258.406677  258.406677   \n",
            "2  2021-10-04  265.500000  268.989990  258.706665  260.510010  260.510010   \n",
            "3  2021-10-05  261.600006  265.769989  258.066681  260.196655  260.196655   \n",
            "4  2021-10-06  258.733337  262.220001  257.739990  260.916656  260.916656   \n",
            "\n",
            "     Volume Stock Name  \n",
            "0  53868000       TSLA  \n",
            "1  51094200       TSLA  \n",
            "2  91449900       TSLA  \n",
            "3  55297800       TSLA  \n",
            "4  43898400       TSLA  \n"
          ]
        }
      ]
    },
    {
      "cell_type": "markdown",
      "source": [
        "Performing Sentiment Analysis using TextBlob"
      ],
      "metadata": {
        "id": "y5zkPdm6qUI6"
      }
    },
    {
      "cell_type": "code",
      "source": [
        "from textblob import TextBlob\n",
        "\n",
        "# Define a function to calculate sentiment polarity\n",
        "def analyze_sentiment(tweet):\n",
        "    blob = TextBlob(tweet)\n",
        "    return blob.sentiment.polarity\n",
        "\n",
        "# Apply sentiment analysis\n",
        "tweets['sentiment_score'] = tweets['Tweet'].apply(analyze_sentiment)\n",
        "\n",
        "# Categorize sentiment into Positive and Negative only\n",
        "def categorize_sentiment(score):\n",
        "    if score > 0:\n",
        "        return \"Positive\"\n",
        "    elif score <= 0:\n",
        "        return \"Negative\"\n",
        "\n",
        "tweets['sentiment'] = tweets['sentiment_score'].apply(categorize_sentiment)\n",
        "\n",
        "# Preview the updated tweets dataset\n",
        "print(tweets.head())\n"
      ],
      "metadata": {
        "colab": {
          "base_uri": "https://localhost:8080/"
        },
        "id": "tDFvqbmKwZmy",
        "outputId": "f3cad9e8-85d1-4eaa-8a0c-ab6259f6c79f"
      },
      "execution_count": 53,
      "outputs": [
        {
          "output_type": "stream",
          "name": "stdout",
          "text": [
            "                        Date  \\\n",
            "0  2022-09-29 23:41:16+00:00   \n",
            "1  2022-09-29 23:24:43+00:00   \n",
            "2  2022-09-29 23:18:08+00:00   \n",
            "3  2022-09-29 22:40:07+00:00   \n",
            "4  2022-09-29 22:27:05+00:00   \n",
            "\n",
            "                                               Tweet Stock Name Company Name  \\\n",
            "0  Mainstream media has done an amazing job at br...       tsla  Tesla, Inc.   \n",
            "1  Tesla delivery estimates are at around 364k fr...       tsla  Tesla, Inc.   \n",
            "2  3/ Even if I include 63.0M unvested RSUs as of...       tsla  Tesla, Inc.   \n",
            "3  @RealDanODowd @WholeMarsBlog @Tesla Hahaha why...       tsla  Tesla, Inc.   \n",
            "4  @RealDanODowd @Tesla Stop trying to kill kids,...       tsla  Tesla, Inc.   \n",
            "\n",
            "   sentiment_score sentiment        date  \\\n",
            "0         0.600000  Positive  2022-09-29   \n",
            "1         0.000000  Negative  2022-09-29   \n",
            "2         0.018182  Positive  2022-09-29   \n",
            "3         0.079167  Positive  2022-09-29   \n",
            "4        -0.200000  Negative  2022-09-29   \n",
            "\n",
            "                                       cleaned_tweet  \n",
            "0  mainstream media has done an amazing job at br...  \n",
            "1  tesla delivery estimates are at around 364k fr...  \n",
            "2  3 even if i include 630m unvested rsus as of 6...  \n",
            "3     hahaha why are you still trying to stop tes...  \n",
            "4    stop trying to kill kids you sad deranged ol...  \n"
          ]
        }
      ]
    },
    {
      "cell_type": "markdown",
      "source": [
        "Checking if the two datasets can be merged using 'Date' and 'Stock Name' columns"
      ],
      "metadata": {
        "id": "kWeI_wyFqdJK"
      }
    },
    {
      "cell_type": "code",
      "source": [
        "print(tweets['Date'].unique())\n",
        "print(stock_data['Date'].unique())\n",
        "print(tweets['Stock Name'].unique())\n",
        "print(stock_data['Stock Name'].unique())\n"
      ],
      "metadata": {
        "colab": {
          "base_uri": "https://localhost:8080/"
        },
        "id": "F1c0D7u44N1f",
        "outputId": "92b38e63-d373-4927-c35f-0882d5812f6a"
      },
      "execution_count": 19,
      "outputs": [
        {
          "output_type": "stream",
          "name": "stdout",
          "text": [
            "['2022-09-29 23:41:16+00:00' '2022-09-29 23:24:43+00:00'\n",
            " '2022-09-29 23:18:08+00:00' ... '2021-10-01 04:43:41+00:00'\n",
            " '2021-10-01 00:03:32+00:00' '2021-09-30 10:22:52+00:00']\n",
            "['2021-09-30' '2021-10-01' '2021-10-04' '2021-10-05' '2021-10-06'\n",
            " '2021-10-07' '2021-10-08' '2021-10-11' '2021-10-12' '2021-10-13'\n",
            " '2021-10-14' '2021-10-15' '2021-10-18' '2021-10-19' '2021-10-20'\n",
            " '2021-10-21' '2021-10-22' '2021-10-25' '2021-10-26' '2021-10-27'\n",
            " '2021-10-28' '2021-10-29' '2021-11-01' '2021-11-02' '2021-11-03'\n",
            " '2021-11-04' '2021-11-05' '2021-11-08' '2021-11-09' '2021-11-10'\n",
            " '2021-11-11' '2021-11-12' '2021-11-15' '2021-11-16' '2021-11-17'\n",
            " '2021-11-18' '2021-11-19' '2021-11-22' '2021-11-23' '2021-11-24'\n",
            " '2021-11-26' '2021-11-29' '2021-11-30' '2021-12-01' '2021-12-02'\n",
            " '2021-12-03' '2021-12-06' '2021-12-07' '2021-12-08' '2021-12-09'\n",
            " '2021-12-10' '2021-12-13' '2021-12-14' '2021-12-15' '2021-12-16'\n",
            " '2021-12-17' '2021-12-20' '2021-12-21' '2021-12-22' '2021-12-23'\n",
            " '2021-12-27' '2021-12-28' '2021-12-29' '2021-12-30' '2021-12-31'\n",
            " '2022-01-03' '2022-01-04' '2022-01-05' '2022-01-06' '2022-01-07'\n",
            " '2022-01-10' '2022-01-11' '2022-01-12' '2022-01-13' '2022-01-14'\n",
            " '2022-01-18' '2022-01-19' '2022-01-20' '2022-01-21' '2022-01-24'\n",
            " '2022-01-25' '2022-01-26' '2022-01-27' '2022-01-28' '2022-01-31'\n",
            " '2022-02-01' '2022-02-02' '2022-02-03' '2022-02-04' '2022-02-07'\n",
            " '2022-02-08' '2022-02-09' '2022-02-10' '2022-02-11' '2022-02-14'\n",
            " '2022-02-15' '2022-02-16' '2022-02-17' '2022-02-18' '2022-02-22'\n",
            " '2022-02-23' '2022-02-24' '2022-02-25' '2022-02-28' '2022-03-01'\n",
            " '2022-03-02' '2022-03-03' '2022-03-04' '2022-03-07' '2022-03-08'\n",
            " '2022-03-09' '2022-03-10' '2022-03-11' '2022-03-14' '2022-03-15'\n",
            " '2022-03-16' '2022-03-17' '2022-03-18' '2022-03-21' '2022-03-22'\n",
            " '2022-03-23' '2022-03-24' '2022-03-25' '2022-03-28' '2022-03-29'\n",
            " '2022-03-30' '2022-03-31' '2022-04-01' '2022-04-04' '2022-04-05'\n",
            " '2022-04-06' '2022-04-07' '2022-04-08' '2022-04-11' '2022-04-12'\n",
            " '2022-04-13' '2022-04-14' '2022-04-18' '2022-04-19' '2022-04-20'\n",
            " '2022-04-21' '2022-04-22' '2022-04-25' '2022-04-26' '2022-04-27'\n",
            " '2022-04-28' '2022-04-29' '2022-05-02' '2022-05-03' '2022-05-04'\n",
            " '2022-05-05' '2022-05-06' '2022-05-09' '2022-05-10' '2022-05-11'\n",
            " '2022-05-12' '2022-05-13' '2022-05-16' '2022-05-17' '2022-05-18'\n",
            " '2022-05-19' '2022-05-20' '2022-05-23' '2022-05-24' '2022-05-25'\n",
            " '2022-05-26' '2022-05-27' '2022-05-31' '2022-06-01' '2022-06-02'\n",
            " '2022-06-03' '2022-06-06' '2022-06-07' '2022-06-08' '2022-06-09'\n",
            " '2022-06-10' '2022-06-13' '2022-06-14' '2022-06-15' '2022-06-16'\n",
            " '2022-06-17' '2022-06-21' '2022-06-22' '2022-06-23' '2022-06-24'\n",
            " '2022-06-27' '2022-06-28' '2022-06-29' '2022-06-30' '2022-07-01'\n",
            " '2022-07-05' '2022-07-06' '2022-07-07' '2022-07-08' '2022-07-11'\n",
            " '2022-07-12' '2022-07-13' '2022-07-14' '2022-07-15' '2022-07-18'\n",
            " '2022-07-19' '2022-07-20' '2022-07-21' '2022-07-22' '2022-07-25'\n",
            " '2022-07-26' '2022-07-27' '2022-07-28' '2022-07-29' '2022-08-01'\n",
            " '2022-08-02' '2022-08-03' '2022-08-04' '2022-08-05' '2022-08-08'\n",
            " '2022-08-09' '2022-08-10' '2022-08-11' '2022-08-12' '2022-08-15'\n",
            " '2022-08-16' '2022-08-17' '2022-08-18' '2022-08-19' '2022-08-22'\n",
            " '2022-08-23' '2022-08-24' '2022-08-25' '2022-08-26' '2022-08-29'\n",
            " '2022-08-30' '2022-08-31' '2022-09-01' '2022-09-02' '2022-09-06'\n",
            " '2022-09-07' '2022-09-08' '2022-09-09' '2022-09-12' '2022-09-13'\n",
            " '2022-09-14' '2022-09-15' '2022-09-16' '2022-09-19' '2022-09-20'\n",
            " '2022-09-21' '2022-09-22' '2022-09-23' '2022-09-26' '2022-09-27'\n",
            " '2022-09-28' '2022-09-29']\n",
            "['TSLA' 'MSFT' 'PG' 'META' 'AMZN' 'GOOG' 'AMD' 'AAPL' 'NFLX' 'TSM' 'KO'\n",
            " 'F' 'COST' 'DIS' 'VZ' 'CRM' 'INTC' 'BA' 'BX' 'NOC' 'PYPL' 'ENPH' 'NIO'\n",
            " 'ZS' 'XPEV']\n",
            "['TSLA' 'MSFT' 'PG' 'META' 'AMZN' 'GOOG' 'AMD' 'AAPL' 'NFLX' 'TSM' 'KO'\n",
            " 'F' 'COST' 'DIS' 'VZ' 'CRM' 'INTC' 'BA' 'BX' 'NOC' 'PYPL' 'ENPH' 'NIO'\n",
            " 'ZS' 'XPEV']\n"
          ]
        }
      ]
    },
    {
      "cell_type": "markdown",
      "source": [
        "Traning Multinomial Naive Bayes Model for Stock Sentiment Analysis using stock_tweets dataset"
      ],
      "metadata": {
        "id": "jQIfRDRnqxbU"
      }
    },
    {
      "cell_type": "code",
      "source": [
        "# Import libraries\n",
        "import pandas as pd\n",
        "from sklearn.model_selection import train_test_split\n",
        "from sklearn.feature_extraction.text import CountVectorizer\n",
        "from sklearn.naive_bayes import MultinomialNB\n",
        "from sklearn.metrics import classification_report, accuracy_score\n",
        "import re\n",
        "\n",
        "# Preprocess text\n",
        "def clean_text(text):\n",
        "    text = re.sub(r\"http\\S+|www\\S+|https\\S+\", '', text, flags=re.MULTILINE)  # Remove URLs\n",
        "    text = re.sub(r'\\@\\w+|\\#', '', text)  # Remove @ mentions and hashtags\n",
        "    text = re.sub(r'[^A-Za-z0-9 ]+', '', text)  # Remove special characters\n",
        "    text = text.lower()  # Convert to lowercase\n",
        "    return text\n",
        "\n",
        "tweets['cleaned_tweet'] = tweets['Tweet'].apply(clean_text)\n",
        "\n",
        "# Prepare features (X) and labels (y)\n",
        "X = tweets['cleaned_tweet']  # Cleaned text data\n",
        "y = tweets['sentiment']  # Sentiment labels ('Positive', 'Negative', 'Neutral')\n",
        "\n",
        "# Convert text data to numerical features using CountVectorizer\n",
        "vectorizer = CountVectorizer()\n",
        "X_vectorized = vectorizer.fit_transform(X)\n",
        "\n",
        "# Split data into training and testing sets\n",
        "X_train, X_test, y_train, y_test = train_test_split(X_vectorized, y, test_size=0.2, random_state=42)\n",
        "\n",
        "# Train a Multinomial Naive Bayes Classifier\n",
        "clf = MultinomialNB()\n",
        "clf.fit(X_train, y_train)\n",
        "\n",
        "# Predict on the test set\n",
        "y_pred = clf.predict(X_test)\n",
        "\n",
        "# Evaluate the model\n",
        "print(\"Accuracy:\", accuracy_score(y_test, y_pred))\n",
        "print(\"\\nClassification Report:\\n\", classification_report(y_test, y_pred))\n"
      ],
      "metadata": {
        "colab": {
          "base_uri": "https://localhost:8080/"
        },
        "id": "MFRnxuHrD-G2",
        "outputId": "997a3ecd-76b9-4954-9a93-1e0d214b4d06"
      },
      "execution_count": 54,
      "outputs": [
        {
          "output_type": "stream",
          "name": "stdout",
          "text": [
            "Accuracy: 0.8121170864533697\n",
            "\n",
            "Classification Report:\n",
            "               precision    recall  f1-score   support\n",
            "\n",
            "    Negative       0.91      0.71      0.80      8353\n",
            "    Positive       0.75      0.93      0.83      7806\n",
            "\n",
            "    accuracy                           0.81     16159\n",
            "   macro avg       0.83      0.82      0.81     16159\n",
            "weighted avg       0.83      0.81      0.81     16159\n",
            "\n"
          ]
        }
      ]
    },
    {
      "cell_type": "markdown",
      "source": [
        "Training Logistic Regression Model for Stock Sentiment Analysis using stocks_tweets dataset"
      ],
      "metadata": {
        "id": "r7E8OntjrLRD"
      }
    },
    {
      "cell_type": "code",
      "source": [
        "# Import libraries\n",
        "import pandas as pd\n",
        "from sklearn.model_selection import train_test_split\n",
        "from sklearn.feature_extraction.text import CountVectorizer\n",
        "from sklearn.linear_model import LogisticRegression\n",
        "from sklearn.metrics import classification_report, accuracy_score\n",
        "import re\n",
        "\n",
        "# Preprocess text\n",
        "def clean_text(text):\n",
        "    text = re.sub(r\"http\\S+|www\\S+|https\\S+\", '', text, flags=re.MULTILINE)  # Remove URLs\n",
        "    text = re.sub(r'\\@\\w+|\\#', '', text)  # Remove @ mentions and hashtags\n",
        "    text = re.sub(r'[^A-Za-z0-9 ]+', '', text)  # Remove special characters\n",
        "    text = text.lower()  # Convert to lowercase\n",
        "    return text\n",
        "\n",
        "tweets['cleaned_tweet'] = tweets['Tweet'].apply(clean_text)\n",
        "\n",
        "# Prepare features (X) and labels (y)\n",
        "X = tweets['cleaned_tweet']  # Cleaned text data\n",
        "y = tweets['sentiment']  # Sentiment labels ('Positive', 'Negative', 'Neutral')\n",
        "\n",
        "# Convert text data to numerical features using CountVectorizer\n",
        "vectorizer = CountVectorizer()\n",
        "X_vectorized = vectorizer.fit_transform(X)\n",
        "\n",
        "# Split data into training and testing sets\n",
        "X_train, X_test, y_train, y_test = train_test_split(X_vectorized, y, test_size=0.2, random_state=42)\n",
        "\n",
        "# Train a Logistic Regression Classifier\n",
        "clf = LogisticRegression(max_iter=200, random_state=42)\n",
        "clf.fit(X_train, y_train)\n",
        "\n",
        "# Predict on the test set\n",
        "y_pred_logistic = clf.predict(X_test)\n",
        "\n",
        "# Evaluate the model\n",
        "print(\"Accuracy:\", accuracy_score(y_test, y_pred_logistic))\n",
        "print(\"\\nClassification Report:\\n\", classification_report(y_test, y_pred_logistic))\n"
      ],
      "metadata": {
        "colab": {
          "base_uri": "https://localhost:8080/"
        },
        "id": "m3alC1AqEKbK",
        "outputId": "3603cc6a-8da3-48c2-b7a6-2c7e6ddf1289"
      },
      "execution_count": 55,
      "outputs": [
        {
          "output_type": "stream",
          "name": "stdout",
          "text": [
            "Accuracy: 0.9423850485797388\n",
            "\n",
            "Classification Report:\n",
            "               precision    recall  f1-score   support\n",
            "\n",
            "    Negative       0.93      0.96      0.94      8353\n",
            "    Positive       0.95      0.93      0.94      7806\n",
            "\n",
            "    accuracy                           0.94     16159\n",
            "   macro avg       0.94      0.94      0.94     16159\n",
            "weighted avg       0.94      0.94      0.94     16159\n",
            "\n"
          ]
        }
      ]
    },
    {
      "cell_type": "markdown",
      "source": [
        "Visuaization of trained Logistic Regression model"
      ],
      "metadata": {
        "id": "i3ihybifrRd4"
      }
    },
    {
      "cell_type": "code",
      "source": [
        "import matplotlib.pyplot as plt\n",
        "from sklearn.metrics import confusion_matrix, ConfusionMatrixDisplay\n",
        "\n",
        "# Check unique classes in y_test and y_pred\n",
        "print(\"Unique classes in y_test:\", set(y_test))\n",
        "print(\"Unique classes in y_pred:\", set(y_pred_logistic))\n",
        "\n",
        "# Generate confusion matrix\n",
        "cm = confusion_matrix(y_test, y_pred_logistic)\n",
        "\n",
        "# If there are only two classes (binary), update display labels accordingly\n",
        "if len(set(y_test)) == 2:\n",
        "    disp = ConfusionMatrixDisplay(confusion_matrix=cm, display_labels=['Negative', 'Positive'])\n",
        "# Plot the confusion matrix\n",
        "disp.plot(cmap=plt.cm.Blues)\n",
        "plt.title(\"Logistic Regression - Confusion Matrix\")\n",
        "plt.show()\n"
      ],
      "metadata": {
        "colab": {
          "base_uri": "https://localhost:8080/",
          "height": 507
        },
        "id": "c_Vob57yKYmF",
        "outputId": "796bc1ca-ff3d-4626-ea88-1f22e56bf748"
      },
      "execution_count": 57,
      "outputs": [
        {
          "output_type": "stream",
          "name": "stdout",
          "text": [
            "Unique classes in y_test: {'Positive', 'Negative'}\n",
            "Unique classes in y_pred: {'Positive', 'Negative'}\n"
          ]
        },
        {
          "output_type": "display_data",
          "data": {
            "text/plain": [
              "<Figure size 640x480 with 2 Axes>"
            ],
            "image/png": "[encoded data removed]"
          },
          "metadata": {}
        }
      ]
    },
    {
      "cell_type": "markdown",
      "source": [
        "Saving the Logistic Regression Model"
      ],
      "metadata": {
        "id": "eBql6SfvrkD_"
      }
    },
    {
      "cell_type": "code",
      "source": [
        "# Save the trained model to a .pkl file\n",
        "joblib.dump(clf, 'logistic_regression_model.pkl')\n",
        "\n",
        "# Save the vectorizer (optional)\n",
        "joblib.dump(vectorizer, 'vectorizer.pkl')"
      ],
      "metadata": {
        "colab": {
          "base_uri": "https://localhost:8080/"
        },
        "id": "FmQ18vzaRPhF",
        "outputId": "61898478-0119-4351-bbd3-15e4b5d7d717"
      },
      "execution_count": 58,
      "outputs": [
        {
          "output_type": "execute_result",
          "data": {
            "text/plain": [
              "['vectorizer.pkl']"
            ]
          },
          "metadata": {},
          "execution_count": 58
        }
      ]
    },
    {
      "cell_type": "code",
      "source": [
        "from google.colab import files\n",
        "\n",
        "# Download the saved model file\n",
        "files.download('logistic_regression_model.pkl')\n",
        "files.download('vectorizer.pkl')  # Optional if you want to download the vectorizer as well\n"
      ],
      "metadata": {
        "colab": {
          "base_uri": "https://localhost:8080/",
          "height": 17
        },
        "id": "0xpMPSlERVw5",
        "outputId": "dfd5ceed-d86c-4a65-9334-5ad8dbaf492c"
      },
      "execution_count": 49,
      "outputs": [
        {
          "output_type": "display_data",
          "data": {
            "text/plain": [
              "<IPython.core.display.Javascript object>"
            ],
            "application/javascript": [
              "\n",
              "    async function download(id, filename, size) {\n",
              "      if (!google.colab.kernel.accessAllowed) {\n",
              "        return;\n",
              "      }\n",
              "      const div = document.createElement('div');\n",
              "      const label = document.createElement('label');\n",
              "      label.textContent = `Downloading \"${filename}\": `;\n",
              "      div.appendChild(label);\n",
              "      const progress = document.createElement('progress');\n",
              "      progress.max = size;\n",
              "      div.appendChild(progress);\n",
              "      document.body.appendChild(div);\n",
              "\n",
              "      const buffers = [];\n",
              "      let downloaded = 0;\n",
              "\n",
              "      const channel = await google.colab.kernel.comms.open(id);\n",
              "      // Send a message to notify the kernel that we're ready.\n",
              "      channel.send({})\n",
              "\n",
              "      for await (const message of channel.messages) {\n",
              "        // Send a message to notify the kernel that we're ready.\n",
              "        channel.send({})\n",
              "        if (message.buffers) {\n",
              "          for (const buffer of message.buffers) {\n",
              "            buffers.push(buffer);\n",
              "            downloaded += buffer.byteLength;\n",
              "            progress.value = downloaded;\n",
              "          }\n",
              "        }\n",
              "      }\n",
              "      const blob = new Blob(buffers, {type: 'application/binary'});\n",
              "      const a = document.createElement('a');\n",
              "      a.href = window.URL.createObjectURL(blob);\n",
              "      a.download = filename;\n",
              "      div.appendChild(a);\n",
              "      a.click();\n",
              "      div.remove();\n",
              "    }\n",
              "  "
            ]
          },
          "metadata": {}
        },
        {
          "output_type": "display_data",
          "data": {
            "text/plain": [
              "<IPython.core.display.Javascript object>"
            ],
            "application/javascript": [
              "download(\"download_6ae05216-b740-47ab-a61a-74f25b6f63bd\", \"logistic_regression_model.pkl\", 2029167)"
            ]
          },
          "metadata": {}
        },
        {
          "output_type": "display_data",
          "data": {
            "text/plain": [
              "<IPython.core.display.Javascript object>"
            ],
            "application/javascript": [
              "\n",
              "    async function download(id, filename, size) {\n",
              "      if (!google.colab.kernel.accessAllowed) {\n",
              "        return;\n",
              "      }\n",
              "      const div = document.createElement('div');\n",
              "      const label = document.createElement('label');\n",
              "      label.textContent = `Downloading \"${filename}\": `;\n",
              "      div.appendChild(label);\n",
              "      const progress = document.createElement('progress');\n",
              "      progress.max = size;\n",
              "      div.appendChild(progress);\n",
              "      document.body.appendChild(div);\n",
              "\n",
              "      const buffers = [];\n",
              "      let downloaded = 0;\n",
              "\n",
              "      const channel = await google.colab.kernel.comms.open(id);\n",
              "      // Send a message to notify the kernel that we're ready.\n",
              "      channel.send({})\n",
              "\n",
              "      for await (const message of channel.messages) {\n",
              "        // Send a message to notify the kernel that we're ready.\n",
              "        channel.send({})\n",
              "        if (message.buffers) {\n",
              "          for (const buffer of message.buffers) {\n",
              "            buffers.push(buffer);\n",
              "            downloaded += buffer.byteLength;\n",
              "            progress.value = downloaded;\n",
              "          }\n",
              "        }\n",
              "      }\n",
              "      const blob = new Blob(buffers, {type: 'application/binary'});\n",
              "      const a = document.createElement('a');\n",
              "      a.href = window.URL.createObjectURL(blob);\n",
              "      a.download = filename;\n",
              "      div.appendChild(a);\n",
              "      a.click();\n",
              "      div.remove();\n",
              "    }\n",
              "  "
            ]
          },
          "metadata": {}
        },
        {
          "output_type": "display_data",
          "data": {
            "text/plain": [
              "<IPython.core.display.Javascript object>"
            ],
            "application/javascript": [
              "download(\"download_7377783b-0e86-4469-9d9a-159f6cbb728a\", \"vectorizer.pkl\", 1220270)"
            ]
          },
          "metadata": {}
        }
      ]
    },
    {
      "cell_type": "markdown",
      "source": [
        "Using Random Forest Regressor for predicting continuous numerical values using stocks_yfinance_data dataset"
      ],
      "metadata": {
        "id": "_vmdfOaHrqVa"
      }
    },
    {
      "cell_type": "code",
      "source": [
        "# Import libraries\n",
        "import pandas as pd\n",
        "from sklearn.ensemble import RandomForestRegressor\n",
        "from sklearn.model_selection import train_test_split\n",
        "from sklearn.metrics import mean_absolute_error, mean_squared_error, r2_score\n",
        "import numpy as np\n",
        "\n",
        "# Load the dataset\n",
        "df = pd.read_csv('stock_yfinance_data.csv')\n",
        "\n",
        "# Preprocess the data\n",
        "df['Date'] = pd.to_datetime(df['Date'])\n",
        "df.set_index('Date', inplace=True)\n",
        "\n",
        "# Feature engineering: Use previous day's Close price as a feature\n",
        "df['Prev Close'] = df['Close'].shift(1)\n",
        "\n",
        "# Drop rows with missing values (e.g., first row due to shift)\n",
        "df.dropna(inplace=True)\n",
        "\n",
        "# Define features (X) and target (y)\n",
        "X = df[['Prev Close', 'Open', 'High', 'Low', 'Volume']]  # Previous day's Close and other numerical features\n",
        "y = df['Close']  # Target is Close price\n",
        "\n",
        "# Split data into training and testing sets\n",
        "X_train, X_test, y_train, y_test = train_test_split(X, y, test_size=0.2, random_state=42)\n",
        "\n",
        "# Train a Random Forest Regressor\n",
        "model = RandomForestRegressor(n_estimators=200, random_state=42)\n",
        "model.fit(X_train, y_train)\n",
        "\n",
        "# Predict on the test set\n",
        "y_pred_regressor = model.predict(X_test)\n",
        "\n",
        "# Evaluate the model\n",
        "print(\"Mean Absolute Error:\", mean_absolute_error(y_test, y_pred_regressor))\n",
        "print(\"Mean Squared Error:\", mean_squared_error(y_test, y_pred_regressor))\n",
        "print(\"R2 Score:\", r2_score(y_test, y_pred_regressor))\n"
      ],
      "metadata": {
        "colab": {
          "base_uri": "https://localhost:8080/"
        },
        "id": "xNa_g94QEzm_",
        "outputId": "99dd8062-80d2-44fb-f916-4d0b2daff9c5"
      },
      "execution_count": 35,
      "outputs": [
        {
          "output_type": "stream",
          "name": "stdout",
          "text": [
            "Mean Absolute Error: 1.719769482389329\n",
            "Mean Squared Error: 7.835465217779199\n",
            "R2 Score: 0.9995412762360182\n"
          ]
        }
      ]
    },
    {
      "cell_type": "code",
      "source": [
        "# Plotting Predicted vs Actual for Random Forest Regressor\n",
        "plt.figure(figsize=(10, 6))\n",
        "plt.scatter(y_test, y_pred_regressor, color='blue', alpha=0.5)\n",
        "plt.plot([y_test.min(), y_test.max()], [y_test.min(), y_test.max()], color='red', linestyle='--')  # Line of perfect prediction\n",
        "plt.xlabel('Actual Prices')\n",
        "plt.ylabel('Predicted Prices')\n",
        "plt.title('Random Forest Regressor - Predicted vs Actual')\n",
        "plt.show()\n"
      ],
      "metadata": {
        "colab": {
          "base_uri": "https://localhost:8080/",
          "height": 564
        },
        "id": "t-6-n3O_LvlS",
        "outputId": "49472ce9-62cf-4d0f-c937-e71751c7f156"
      },
      "execution_count": 36,
      "outputs": [
        {
          "output_type": "display_data",
          "data": {
            "text/plain": [
              "<Figure size 1000x600 with 1 Axes>"
            ],
            "image/png": "[encoded data removed]"
          },
          "metadata": {}
        }
      ]
    },
    {
      "cell_type": "code",
      "source": [
        "# Save the trained model to a .pkl file\n",
        "joblib.dump(clf, 'random_forest_regressor_model.pkl')"
      ],
      "metadata": {
        "colab": {
          "base_uri": "https://localhost:8080/"
        },
        "id": "uzF0WOyjRkZs",
        "outputId": "9cfc5501-4706-4514-df33-260c0fea34fa"
      },
      "execution_count": 50,
      "outputs": [
        {
          "output_type": "execute_result",
          "data": {
            "text/plain": [
              "['random_forest_regressor_model.pkl']"
            ]
          },
          "metadata": {},
          "execution_count": 50
        }
      ]
    },
    {
      "cell_type": "markdown",
      "source": [
        "Using Random Forest Classifier to classify stock price movements using stock_yfinance_data dataset"
      ],
      "metadata": {
        "id": "br7bFOpSsJ-s"
      }
    },
    {
      "cell_type": "code",
      "source": [
        "# Create a new column for stock price movement\n",
        "df['Price Change'] = df['Close'].pct_change()  # Percentage change in stock price\n",
        "df['Movement'] = np.where(df['Price Change'] > 0, 1, 0)  # 1 if price went up, 0 if price went down\n",
        "\n",
        "# Drop missing values\n",
        "df.dropna(inplace=True)\n",
        "\n",
        "# Define features (X) and target (y)\n",
        "X = df[['Prev Close', 'Open', 'High', 'Low', 'Volume']]  # Features\n",
        "y = df['Movement']  # Target is price movement (Up/Down)\n",
        "\n",
        "# Split data into training and testing sets\n",
        "X_train, X_test, y_train, y_test = train_test_split(X, y, test_size=0.2, random_state=42)\n",
        "\n",
        "# Train a Random Forest Classifier\n",
        "model = RandomForestClassifier(n_estimators=200, random_state=42)\n",
        "model.fit(X_train, y_train)\n",
        "\n",
        "# Predict on the test set\n",
        "y_pred_classifier = model.predict(X_test)\n",
        "\n",
        "# Evaluate the model\n",
        "print(\"Accuracy:\", accuracy_score(y_test, y_pred_classifier))\n",
        "print(\"\\nClassification Report:\\n\", classification_report(y_test, y_pred_classifier))\n",
        "print(df)"
      ],
      "metadata": {
        "colab": {
          "base_uri": "https://localhost:8080/"
        },
        "id": "u0_5PaNFHD1z",
        "outputId": "5360036a-5cc9-400b-a2c9-9a4810261b08"
      },
      "execution_count": 136,
      "outputs": [
        {
          "output_type": "stream",
          "name": "stdout",
          "text": [
            "Accuracy: 0.726984126984127\n",
            "\n",
            "Classification Report:\n",
            "               precision    recall  f1-score   support\n",
            "\n",
            "           0       0.73      0.76      0.74       658\n",
            "           1       0.72      0.69      0.71       602\n",
            "\n",
            "    accuracy                           0.73      1260\n",
            "   macro avg       0.73      0.73      0.73      1260\n",
            "weighted avg       0.73      0.73      0.73      1260\n",
            "\n",
            "                  Open        High         Low       Close   Adj Close  \\\n",
            "Date                                                                     \n",
            "2021-10-05  261.600006  265.769989  258.066681  260.196655  260.196655   \n",
            "2021-10-06  258.733337  262.220001  257.739990  260.916656  260.916656   \n",
            "2021-10-07  261.820007  268.333344  261.126678  264.536682  264.536682   \n",
            "2021-10-08  265.403320  265.459991  260.303345  261.829987  261.829987   \n",
            "2021-10-11  262.549988  267.079987  261.833344  263.980011  263.980011   \n",
            "...                ...         ...         ...         ...         ...   \n",
            "2022-09-23   13.090000   13.892000   12.860000   13.710000   13.710000   \n",
            "2022-09-26   14.280000   14.830000   14.070000   14.370000   14.370000   \n",
            "2022-09-27   14.580000   14.800000   13.580000   13.710000   13.710000   \n",
            "2022-09-28   13.050000   13.421000   12.690000   13.330000   13.330000   \n",
            "2022-09-29   12.550000   12.850000   11.850000   12.110000   12.110000   \n",
            "\n",
            "              Volume Stock Name  Prev Close  Price Change  Movement  \n",
            "Date                                                                 \n",
            "2021-10-05  55297800       TSLA  260.510010     -0.001203         0  \n",
            "2021-10-06  43898400       TSLA  260.196655      0.002767         1  \n",
            "2021-10-07  57587400       TSLA  260.916656      0.013874         1  \n",
            "2021-10-08  50215800       TSLA  264.536682     -0.010232         0  \n",
            "2021-10-11  42600900       TSLA  261.829987      0.008212         1  \n",
            "...              ...        ...         ...           ...       ...  \n",
            "2022-09-23  28279600       XPEV   13.740000     -0.002183         0  \n",
            "2022-09-26  27891300       XPEV   13.710000      0.048140         1  \n",
            "2022-09-27  21160800       XPEV   14.370000     -0.045929         0  \n",
            "2022-09-28  31799400       XPEV   13.710000     -0.027717         0  \n",
            "2022-09-29  33044800       XPEV   13.330000     -0.091523         0  \n",
            "\n",
            "[6297 rows x 10 columns]\n"
          ]
        }
      ]
    },
    {
      "cell_type": "code",
      "source": [
        "# Plotting Feature Importances for Random Forest Classifier\n",
        "importances = model.feature_importances_  # model is your trained RandomForestClassifier\n",
        "features = X.columns  # Feature names from the dataset\n",
        "\n",
        "# Create a bar plot for feature importance\n",
        "plt.figure(figsize=(10, 6))\n",
        "plt.barh(features, importances, color='skyblue')\n",
        "plt.xlabel('Feature Importance')\n",
        "plt.title('Random Forest Classifier - Feature Importances')\n",
        "plt.show()\n"
      ],
      "metadata": {
        "colab": {
          "base_uri": "https://localhost:8080/",
          "height": 564
        },
        "id": "vD9_Lov8HOIt",
        "outputId": "9786bff5-8ed6-41b7-c21b-f0509f4f0f8a"
      },
      "execution_count": 38,
      "outputs": [
        {
          "output_type": "display_data",
          "data": {
            "text/plain": [
              "<Figure size 1000x600 with 1 Axes>"
            ],
            "image/png": "[encoded data removed]"
          },
          "metadata": {}
        }
      ]
    },
    {
      "cell_type": "code",
      "source": [
        "# Save the trained model to a .pkl file\n",
        "joblib.dump(clf, 'random_forest_classifier_model.pkl')"
      ],
      "metadata": {
        "colab": {
          "base_uri": "https://localhost:8080/"
        },
        "id": "1XTlrVUySChJ",
        "outputId": "494eb83c-2e56-4983-dfa2-6c7afee05703"
      },
      "execution_count": 51,
      "outputs": [
        {
          "output_type": "execute_result",
          "data": {
            "text/plain": [
              "['random_forest_classifier_model.pkl']"
            ]
          },
          "metadata": {},
          "execution_count": 51
        }
      ]
    },
    {
      "cell_type": "markdown",
      "source": [
        "Performing Stock Setiment analysis using the trained Logistic Regression model on stock subreddits"
      ],
      "metadata": {
        "id": "IsSLGATSsaGP"
      }
    },
    {
      "cell_type": "code",
      "source": [
        "! pip install praw\n"
      ],
      "metadata": {
        "colab": {
          "base_uri": "https://localhost:8080/"
        },
        "id": "QiaHGg7MPMQa",
        "outputId": "1f109051-2669-4c02-ae7f-67badbaeb007"
      },
      "execution_count": 42,
      "outputs": [
        {
          "output_type": "stream",
          "name": "stdout",
          "text": [
            "Collecting praw\n",
            "  Using cached praw-7.8.1-py3-none-any.whl.metadata (9.4 kB)\n",
            "Collecting prawcore<3,>=2.4 (from praw)\n",
            "  Downloading prawcore-2.4.0-py3-none-any.whl.metadata (5.0 kB)\n",
            "Collecting update_checker>=0.18 (from praw)\n",
            "  Downloading update_checker-0.18.0-py3-none-any.whl.metadata (2.3 kB)\n",
            "Requirement already satisfied: websocket-client>=0.54.0 in /usr/local/lib/python3.10/dist-packages (from praw) (1.8.0)\n",
            "Requirement already satisfied: requests<3.0,>=2.6.0 in /usr/local/lib/python3.10/dist-packages (from prawcore<3,>=2.4->praw) (2.32.3)\n",
            "Requirement already satisfied: charset-normalizer<4,>=2 in /usr/local/lib/python3.10/dist-packages (from requests<3.0,>=2.6.0->prawcore<3,>=2.4->praw) (3.4.0)\n",
            "Requirement already satisfied: idna<4,>=2.5 in /usr/local/lib/python3.10/dist-packages (from requests<3.0,>=2.6.0->prawcore<3,>=2.4->praw) (3.10)\n",
            "Requirement already satisfied: urllib3<3,>=1.21.1 in /usr/local/lib/python3.10/dist-packages (from requests<3.0,>=2.6.0->prawcore<3,>=2.4->praw) (2.2.3)\n",
            "Requirement already satisfied: certifi>=2017.4.17 in /usr/local/lib/python3.10/dist-packages (from requests<3.0,>=2.6.0->prawcore<3,>=2.4->praw) (2024.8.30)\n",
            "Downloading praw-7.8.1-py3-none-any.whl (189 kB)\n",
            "\u001b[2K   \u001b[90m━━━━━━━━━━━━━━━━━━━━━━━━━━━━━━━━━━━━━━━━\u001b[0m \u001b[32m189.3/189.3 kB\u001b[0m \u001b[31m6.5 MB/s\u001b[0m eta \u001b[36m0:00:00\u001b[0m\n",
            "\u001b[?25hDownloading prawcore-2.4.0-py3-none-any.whl (17 kB)\n",
            "Downloading update_checker-0.18.0-py3-none-any.whl (7.0 kB)\n",
            "Installing collected packages: update_checker, prawcore, praw\n",
            "Successfully installed praw-7.8.1 prawcore-2.4.0 update_checker-0.18.0\n"
          ]
        }
      ]
    },
    {
      "cell_type": "code",
      "source": [
        "! pip install joblib"
      ],
      "metadata": {
        "colab": {
          "base_uri": "https://localhost:8080/"
        },
        "id": "Gj9DehOvP7ii",
        "outputId": "0c9ae32a-1715-4e19-e990-d66639558bf3"
      },
      "execution_count": 45,
      "outputs": [
        {
          "output_type": "stream",
          "name": "stdout",
          "text": [
            "Requirement already satisfied: joblib in /usr/local/lib/python3.10/dist-packages (1.4.2)\n"
          ]
        }
      ]
    },
    {
      "cell_type": "markdown",
      "source": [
        "Testing on 'wallstreetbets' stock subreddit"
      ],
      "metadata": {
        "id": "cuuysATNsoPf"
      }
    },
    {
      "cell_type": "code",
      "source": [
        "import praw\n",
        "import pandas as pd\n",
        "\n",
        "# Set up Reddit API client\n",
        "reddit = praw.Reddit(client_id='gX99J1VXpuMYCM6HaeOdsQ',\n",
        "                     client_secret='ZD07K9X_rrSJQ-Z2VpHGmye37t3Hww',\n",
        "                     user_agent='Reetu_Foodie')\n",
        "\n",
        "# Scrape stock-related subreddit\n",
        "subreddit = reddit.subreddit('wallstreetbets')  # Use your desired stock subreddit\n",
        "posts = []\n",
        "\n",
        "# Scrape top 5 posts from the subreddit (you can adjust limit)\n",
        "for post in subreddit.hot(limit=100):\n",
        "    posts.append({\n",
        "        'title': post.title,\n",
        "        'selftext': post.selftext,\n",
        "        'score': post.score,\n",
        "        'created': post.created\n",
        "    })\n",
        "\n",
        "# Convert the list of posts into a DataFrame\n",
        "df_reddit = pd.DataFrame(posts)\n",
        "print(df_reddit)\n"
      ],
      "metadata": {
        "colab": {
          "base_uri": "https://localhost:8080/"
        },
        "id": "zZXTwoTWMB24",
        "outputId": "dc0865c4-1110-46cb-dafa-50f25c6371de"
      },
      "execution_count": 119,
      "outputs": [
        {
          "output_type": "stream",
          "name": "stderr",
          "text": [
            "WARNING:praw:It appears that you are using PRAW in an asynchronous environment.\n",
            "It is strongly recommended to use Async PRAW: https://asyncpraw.readthedocs.io.\n",
            "See https://praw.readthedocs.io/en/latest/getting_started/multiple_instances.html#discord-bots-and-asynchronous-environments for more info.\n",
            "\n"
          ]
        },
        {
          "output_type": "stream",
          "name": "stdout",
          "text": [
            "                                                title  \\\n",
            "0     What Are Your Moves Tomorrow, December 02, 2024   \n",
            "1                  Weekly Earnings thread 12/2 - 12/6   \n",
            "2   Jacked to the tits on puts - If NASDAQ is red ...   \n",
            "3                               4.5k > 92.6k 4 months   \n",
            "4                              Stellantis CEO Resigns   \n",
            "..                                                ...   \n",
            "95  Since the market is closed, posting my Brisket...   \n",
            "96               win some and lose some - rklb & achr   \n",
            "97    What Are Your Moves Tomorrow, November 29, 2024   \n",
            "98                                   Gm and good luck   \n",
            "99  [$KMX] New car market is in for a kick in the ...   \n",
            "\n",
            "                                             selftext  score       created  \n",
            "0   This post contains content not supported on ol...    231  1.733087e+09  \n",
            "1                                                        152  1.732899e+09  \n",
            "2   [Positions](https://imgur.com/pKmUFi9) - Got i...   2434  1.733095e+09  \n",
            "3                                      RKLB,RCAT,ACHR    922  1.733110e+09  \n",
            "4                                                       1085  1.733082e+09  \n",
            "..                                                ...    ...           ...  \n",
            "95                                                       784  1.732813e+09  \n",
            "96  gave up options for a long time, came back in ...     11  1.732893e+09  \n",
            "97  This post contains content not supported on ol...    209  1.732827e+09  \n",
            "98                                                         7  1.732892e+09  \n",
            "99  Carmax took a run during the pandemic when the...     51  1.732849e+09  \n",
            "\n",
            "[100 rows x 4 columns]\n"
          ]
        }
      ]
    },
    {
      "cell_type": "code",
      "source": [
        "import re\n",
        "\n",
        "# Preprocess text (clean text for sentiment analysis)\n",
        "def clean_text(text):\n",
        "    text = re.sub(r\"http\\S+|www\\S+|https\\S+\", '', text, flags=re.MULTILINE)  # Remove URLs\n",
        "    text = re.sub(r'\\@\\w+|\\#', '', text)  # Remove @ mentions and hashtags\n",
        "    text = re.sub(r'[^A-Za-z0-9 ]+', '', text)  # Remove special characters\n",
        "    text = text.lower()  # Convert to lowercase\n",
        "    return text\n",
        "\n",
        "df_reddit['cleaned_text'] = df_reddit['title'] + ' ' + df_reddit['selftext']  # Combine title and body\n",
        "df_reddit['cleaned_text'] = df_reddit['cleaned_text'].apply(clean_text)\n"
      ],
      "metadata": {
        "id": "dotJiAb-PpcU"
      },
      "execution_count": 120,
      "outputs": []
    },
    {
      "cell_type": "code",
      "source": [
        "import joblib\n",
        "\n",
        "# Load pre-trained Logistic Regression model and vectorizer\n",
        "logistic_model = joblib.load('logistic_regression_model.pkl')  # Pre-trained Logistic Regression model\n",
        "vectorizer = joblib.load('vectorizer.pkl')  # Vectorizer used during model training\n"
      ],
      "metadata": {
        "id": "2VQz-a6EW5PY"
      },
      "execution_count": 121,
      "outputs": []
    },
    {
      "cell_type": "code",
      "source": [
        "# Transform the cleaned text data using the same vectorizer\n",
        "X_reddit = df_reddit['cleaned_text']\n",
        "X_reddit_vectorized = vectorizer.transform(X_reddit)\n",
        "\n",
        "# Predict sentiment (Positive or Negative)\n",
        "df_reddit['sentiment'] = logistic_model.predict(X_reddit_vectorized)\n",
        "\n",
        "# Print the first few rows to check the results\n",
        "print(df_reddit.head())\n"
      ],
      "metadata": {
        "colab": {
          "base_uri": "https://localhost:8080/"
        },
        "id": "J4uWE43PXJ1U",
        "outputId": "18320f91-4741-43fc-9401-57a1aae087c8"
      },
      "execution_count": 122,
      "outputs": [
        {
          "output_type": "stream",
          "name": "stdout",
          "text": [
            "                                               title  \\\n",
            "0    What Are Your Moves Tomorrow, December 02, 2024   \n",
            "1                 Weekly Earnings thread 12/2 - 12/6   \n",
            "2  Jacked to the tits on puts - If NASDAQ is red ...   \n",
            "3                              4.5k > 92.6k 4 months   \n",
            "4                             Stellantis CEO Resigns   \n",
            "\n",
            "                                            selftext  score       created  \\\n",
            "0  This post contains content not supported on ol...    231  1.733087e+09   \n",
            "1                                                       152  1.732899e+09   \n",
            "2  [Positions](https://imgur.com/pKmUFi9) - Got i...   2434  1.733095e+09   \n",
            "3                                     RKLB,RCAT,ACHR    922  1.733110e+09   \n",
            "4                                                      1085  1.733082e+09   \n",
            "\n",
            "                                        cleaned_text sentiment  \n",
            "0  what are your moves tomorrow december 02 2024 ...  Positive  \n",
            "1                   weekly earnings thread 122  126   Negative  \n",
            "2  jacked to the tits on puts  if nasdaq is red t...  Positive  \n",
            "3                    45k  926k 4 months rklbrcatachr  Negative  \n",
            "4                            stellantis ceo resigns   Negative  \n"
          ]
        }
      ]
    },
    {
      "cell_type": "code",
      "source": [
        "import matplotlib.pyplot as plt\n",
        "\n",
        "# 1. Count the number of occurrences of each sentiment\n",
        "sentiment_counts = df_reddit['sentiment'].value_counts()\n",
        "\n",
        "# 2. Plot the distribution as a pie chart\n",
        "plt.figure(figsize=(8, 8))\n",
        "plt.pie(sentiment_counts, labels=sentiment_counts.index, autopct='%1.1f%%', startangle=90, colors=['#66b3ff', '#99ff99'])\n",
        "plt.title('Sentiment Distribution in wallstreetbets Stock subreddit Posts')\n",
        "plt.axis('equal')  # Equal aspect ratio ensures that pie is drawn as a circle.\n",
        "plt.show()\n"
      ],
      "metadata": {
        "colab": {
          "base_uri": "https://localhost:8080/",
          "height": 675
        },
        "id": "1TaunX5faeDe",
        "outputId": "14d993f7-c27d-4cdb-e360-a2c32bf85344"
      },
      "execution_count": 123,
      "outputs": [
        {
          "output_type": "display_data",
          "data": {
            "text/plain": [
              "<Figure size 800x800 with 1 Axes>"
            ],
            "image/png": "[encoded data removed]"
          },
          "metadata": {}
        }
      ]
    },
    {
      "cell_type": "markdown",
      "source": [
        "Testing on 'stocks' subreddit"
      ],
      "metadata": {
        "id": "g34PNuxvsvai"
      }
    },
    {
      "cell_type": "code",
      "source": [
        "import praw\n",
        "import pandas as pd\n",
        "\n",
        "# Set up Reddit API client\n",
        "reddit = praw.Reddit(client_id='gX99J1VXpuMYCM6HaeOdsQ',\n",
        "                     client_secret='ZD07K9X_rrSJQ-Z2VpHGmye37t3Hww',\n",
        "                     user_agent='Reetu_Foodie')\n",
        "\n",
        "# Scrape stock-related subreddit\n",
        "stocks_subreddit = reddit.subreddit('stocks')  # Use your desired stock subreddit\n",
        "posts = []\n",
        "\n",
        "# Scrape top 10 posts from the subreddit (you can adjust limit)\n",
        "for post in stocks_subreddit.hot(limit=10):\n",
        "    posts.append({\n",
        "        'title': post.title,\n",
        "        'selftext': post.selftext,\n",
        "        'score': post.score,\n",
        "        'created': post.created\n",
        "    })\n",
        "\n",
        "# Convert the list of posts into a DataFrame\n",
        "stocks_df_reddit = pd.DataFrame(posts)\n",
        "print(stocks_df_reddit)\n"
      ],
      "metadata": {
        "colab": {
          "base_uri": "https://localhost:8080/"
        },
        "id": "MgN3CpEtkucU",
        "outputId": "36012e8d-c9a4-4136-812c-e80bafec594f"
      },
      "execution_count": 124,
      "outputs": [
        {
          "output_type": "stream",
          "name": "stderr",
          "text": [
            "WARNING:praw:It appears that you are using PRAW in an asynchronous environment.\n",
            "It is strongly recommended to use Async PRAW: https://asyncpraw.readthedocs.io.\n",
            "See https://praw.readthedocs.io/en/latest/getting_started/multiple_instances.html#discord-bots-and-asynchronous-environments for more info.\n",
            "\n"
          ]
        },
        {
          "output_type": "stream",
          "name": "stdout",
          "text": [
            "                                               title  \\\n",
            "0  Rate My Portfolio - r/Stocks Quarterly Thread ...   \n",
            "1  /r/Stocks Weekend Discussion Saturday - Nov 30...   \n",
            "2  Is anyone else a little concerned about this m...   \n",
            "3                 Stellantis CEO resignes (Is fired)   \n",
            "4                    Seeking Alpha Black Friday Sale   \n",
            "5          5 Health care stocks for the next 5 years   \n",
            "6                         German market - Volkswagen   \n",
            "7                        $CABA: Why I’m betting big!   \n",
            "8  difference between splitting large companies b...   \n",
            "9  Do you think Rivian would make it to $100 a sh...   \n",
            "\n",
            "                                            selftext  score       created  \n",
            "0  Please use this thread to discuss your portfol...      7  1.733047e+09  \n",
            "1  This is the weekend edition of our stickied di...      9  1.732963e+09  \n",
            "2  Listen, I get that it seems like clear skies a...    389  1.733077e+09  \n",
            "3  STLA CEO Tavares resignes (is fired in other w...    188  1.733084e+09  \n",
            "4  Is it just me, or does the Seeking Alpha Black...     60  1.733057e+09  \n",
            "5  # 1. $NVO - Novo Nordisk\\n\\nDenmark-based phar...      0  1.733122e+09  \n",
            "6  I started investing in stock market around 8 y...     52  1.733030e+09  \n",
            "7  Cabaletta Bio ($CABA) is a CAR-T biotech stock...      0  1.733124e+09  \n",
            "8  Not sure is this is just obvious and a stupid ...      3  1.733040e+09  \n",
            "9  With talks of Rivian saving VW, California kee...    224  1.732940e+09  \n"
          ]
        }
      ]
    },
    {
      "cell_type": "code",
      "source": [
        "import re\n",
        "\n",
        "# Preprocess text (clean text for sentiment analysis)\n",
        "def clean_text(text):\n",
        "    text = re.sub(r\"http\\S+|www\\S+|https\\S+\", '', text, flags=re.MULTILINE)  # Remove URLs\n",
        "    text = re.sub(r'\\@\\w+|\\#', '', text)  # Remove @ mentions and hashtags\n",
        "    text = re.sub(r'[^A-Za-z0-9 ]+', '', text)  # Remove special characters\n",
        "    text = text.lower()  # Convert to lowercase\n",
        "    return text\n",
        "\n",
        "stocks_df_reddit['cleaned_text'] = stocks_df_reddit['title'] + ' ' + stocks_df_reddit['selftext']  # Combine title and body\n",
        "stocks_df_reddit['cleaned_text'] = stocks_df_reddit['cleaned_text'].apply(clean_text)\n"
      ],
      "metadata": {
        "id": "fy57wjzmlNJl"
      },
      "execution_count": 125,
      "outputs": []
    },
    {
      "cell_type": "code",
      "source": [
        "# Transform the cleaned text data using the same vectorizer\n",
        "X1_reddit = stocks_df_reddit['cleaned_text']\n",
        "X1_reddit_vectorized = vectorizer.transform(X1_reddit)\n",
        "\n",
        "# Predict sentiment (Positive or Negative)\n",
        "stocks_df_reddit['sentiment'] = logistic_model.predict(X1_reddit_vectorized)\n",
        "\n",
        "# Print the first few rows to check the results\n",
        "print(stocks_df_reddit.head())\n"
      ],
      "metadata": {
        "colab": {
          "base_uri": "https://localhost:8080/"
        },
        "id": "DoO44c09lTyd",
        "outputId": "4f34b0d3-f307-47c6-c712-9039b02f031b"
      },
      "execution_count": 126,
      "outputs": [
        {
          "output_type": "stream",
          "name": "stdout",
          "text": [
            "                                               title  \\\n",
            "0  Rate My Portfolio - r/Stocks Quarterly Thread ...   \n",
            "1  /r/Stocks Weekend Discussion Saturday - Nov 30...   \n",
            "2  Is anyone else a little concerned about this m...   \n",
            "3                 Stellantis CEO resignes (Is fired)   \n",
            "4                    Seeking Alpha Black Friday Sale   \n",
            "\n",
            "                                            selftext  score       created  \\\n",
            "0  Please use this thread to discuss your portfol...      7  1.733047e+09   \n",
            "1  This is the weekend edition of our stickied di...      9  1.732963e+09   \n",
            "2  Listen, I get that it seems like clear skies a...    389  1.733077e+09   \n",
            "3  STLA CEO Tavares resignes (is fired in other w...    188  1.733084e+09   \n",
            "4  Is it just me, or does the Seeking Alpha Black...     60  1.733057e+09   \n",
            "\n",
            "                                        cleaned_text sentiment  \n",
            "0  rate my portfolio  rstocks quarterly thread de...  Positive  \n",
            "1  rstocks weekend discussion saturday  nov 30 20...  Positive  \n",
            "2  is anyone else a little concerned about this m...  Positive  \n",
            "3  stellantis ceo resignes is fired stla ceo tava...  Negative  \n",
            "4  seeking alpha black friday sale is it just me ...  Positive  \n"
          ]
        }
      ]
    },
    {
      "cell_type": "code",
      "source": [
        "import matplotlib.pyplot as plt\n",
        "\n",
        "# 1. Count the number of occurrences of each sentiment\n",
        "sentiment1_counts = stocks_df_reddit['sentiment'].value_counts()\n",
        "\n",
        "# 2. Plot the distribution as a pie chart\n",
        "plt.figure(figsize=(8, 8))\n",
        "plt.pie(sentiment1_counts, labels=sentiment1_counts.index, autopct='%1.1f%%', startangle=90, colors=['#66b3ff', '#99ff99'])\n",
        "plt.title('Sentiment Distribution in stocks subreddit Posts')\n",
        "plt.axis('equal')  # Equal aspect ratio ensures that pie is drawn as a circle.\n",
        "plt.show()\n"
      ],
      "metadata": {
        "colab": {
          "base_uri": "https://localhost:8080/",
          "height": 675
        },
        "id": "AagClNCnlb5d",
        "outputId": "68b59ec2-4abe-4950-ce34-d47b20b344b3"
      },
      "execution_count": 128,
      "outputs": [
        {
          "output_type": "display_data",
          "data": {
            "text/plain": [
              "<Figure size 800x800 with 1 Axes>"
            ],
            "image/png": "[encoded data removed]"
          },
          "metadata": {}
        }
      ]
    }
  ]
}